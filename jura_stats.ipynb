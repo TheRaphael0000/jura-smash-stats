{
 "cells": [
  {
   "cell_type": "code",
   "execution_count": null,
   "metadata": {},
   "outputs": [],
   "source": [
    "import json\n",
    "from collections import defaultdict\n",
    "from columnar import columnar\n",
    "from statistics import mean, stdev\n",
    "import matplotlib.pyplot as plt"
   ]
  },
  {
   "cell_type": "code",
   "execution_count": null,
   "metadata": {},
   "outputs": [],
   "source": [
    "sets = json.load(open(\"data/all_sets.json\", \"r\"))"
   ]
  },
  {
   "cell_type": "code",
   "execution_count": null,
   "metadata": {},
   "outputs": [],
   "source": [
    "lookup_names = defaultdict(set)\n",
    "lookup_name = {}\n",
    "\"\"\"set id, player 1, player 2, winner\"\"\"\n",
    "sets_formated = []\n",
    "\n",
    "for set_ in sets:\n",
    "    P = []\n",
    "\n",
    "    lookup_entrant_player = {}\n",
    "    for slot in set_[\"slots\"]:\n",
    "        entrant = slot[\"entrant\"]\n",
    "        participants = entrant[\"participants\"]\n",
    "        if len(participants) > 1:\n",
    "            print(\"More than one participant\")\n",
    "            continue\n",
    "\n",
    "        participant = participants[0]\n",
    "        entrant_id = entrant[\"id\"]\n",
    "        player_id = participant[\"player\"][\"id\"]\n",
    "        entrant_name = entrant[\"name\"]\n",
    "\n",
    "        lookup_entrant_player[entrant_id] = player_id\n",
    "        lookup_name[player_id] = entrant_name\n",
    "        lookup_names[player_id].add(entrant_name)\n",
    "        P.append(player_id)\n",
    "\n",
    "    W = lookup_entrant_player[set_[\"winnerId\"]]\n",
    "\n",
    "    sets_formated.append((set_[\"id\"], *P, W))\n",
    "\n",
    "\"\"\"order the sets by id to have them chronologically\"\"\"\n",
    "sets_formated.sort(key=lambda l: l[0])"
   ]
  },
  {
   "cell_type": "code",
   "execution_count": null,
   "metadata": {},
   "outputs": [],
   "source": [
    "def calculate_expected_outcome(rating1, rating2):\n",
    "    \"\"\"\n",
    "    Calculate the expected outcome for Player 1 based on their ratings.\n",
    "    \"\"\"\n",
    "    return 1 / (1 + 10**((rating2 - rating1) / 400))\n",
    "\n",
    "def update_ratings(rating1, rating2, actual_outcome, k):\n",
    "    \"\"\"\n",
    "    Update the ratings of two players based on the match outcome.\n",
    "    \"\"\"\n",
    "    expected_outcome = calculate_expected_outcome(rating1, rating2)\n",
    "\n",
    "    new_rating1 = rating1 + k * (actual_outcome - expected_outcome)\n",
    "    new_rating2 = rating2 + k * ((1 - actual_outcome) - (1 - expected_outcome))\n",
    "\n",
    "    return new_rating1, new_rating2, expected_outcome\n",
    "\n",
    "def compute_elo(sets_, initial_elo, k):\n",
    "    players_stats = {}\n",
    "\n",
    "    for id_ in lookup_names:\n",
    "        players_stats[id_] = {\n",
    "            \"elo\": initial_elo,\n",
    "            \"wins\": 0,\n",
    "            \"loses\": 0,\n",
    "        }\n",
    "\n",
    "    errors = []\n",
    "    for set_id, player1, player2, winner in sets_:\n",
    "        player1_rating = players_stats[player1][\"elo\"]\n",
    "        player2_rating = players_stats[player2][\"elo\"]\n",
    "        if winner == player1:\n",
    "            players_stats[player1][\"wins\"] += 1\n",
    "            players_stats[player2][\"loses\"] += 1\n",
    "            actual_outcome = 1\n",
    "        else:\n",
    "            players_stats[player2][\"wins\"] += 1\n",
    "            players_stats[player1][\"loses\"] += 1\n",
    "            actual_outcome = 0\n",
    "\n",
    "        new_player1_rating, new_player2_rating, expected_outcome = update_ratings(player1_rating, player2_rating, actual_outcome, k)\n",
    "        players_stats[player1][\"elo\"] = new_player1_rating\n",
    "        players_stats[player2][\"elo\"] = new_player2_rating\n",
    "\n",
    "        error = (expected_outcome - actual_outcome) ** 2\n",
    "        errors.append(error)\n",
    "\n",
    "    mean_error = mean(errors)\n",
    "\n",
    "    return players_stats, mean_error"
   ]
  },
  {
   "cell_type": "code",
   "execution_count": null,
   "metadata": {},
   "outputs": [],
   "source": [
    "X = list(range(20, 300))\n",
    "Y = []\n",
    "for i in X:\n",
    "    players_stats, mean_error = compute_elo(sets_formated, initial_elo=1500, k=i)\n",
    "    Y.append(mean_error)\n",
    "\n",
    "minX = min(X, key=lambda i: Y[X.index(i)])\n",
    "print(minX)\n",
    "\n",
    "plt.plot(X,Y)\n",
    "plt.xlabel(\"K\")\n",
    "plt.ylabel(\"Error\")\n",
    "plt.show()"
   ]
  },
  {
   "cell_type": "code",
   "execution_count": null,
   "metadata": {},
   "outputs": [],
   "source": [
    "players_stats, mean_error = compute_elo(sets_formated, initial_elo=1500, k=179)\n",
    "\n",
    "players_stats_list = list(players_stats.items())\n",
    "players_stats_list.sort(key=lambda player_stats: -player_stats[-1][\"elo\"])\n",
    "\n",
    "pure_elos = [e[-1][\"elo\"] for e in players_stats_list]\n",
    "\n",
    "print(\"Mean Elo (Elo initial)\", mean(pure_elos))\n",
    "print(\"Std Elo\", stdev(pure_elos))\n",
    "\n",
    "data = []\n",
    "\n",
    "for rank, (id_, player_stats) in enumerate(players_stats_list):\n",
    "    data.append([rank+1, lookup_name[id_], f\"{player_stats['elo']:.1f}\", player_stats[\"wins\"], player_stats[\"loses\"], player_stats[\"wins\"] + player_stats[\"loses\"]])\n",
    "\n",
    "table = columnar(data, headers=['rank', 'pseudo', 'elo', 'W', \"L\", \"S\"], justify=['r', 'l','l', 'r', 'r', 'r', 'r'], no_borders=True)\n",
    "print(table)"
   ]
  },
  {
   "cell_type": "code",
   "execution_count": null,
   "metadata": {},
   "outputs": [],
   "source": []
  }
 ],
 "metadata": {
  "kernelspec": {
   "display_name": "Python 3",
   "language": "python",
   "name": "python3"
  },
  "language_info": {
   "codemirror_mode": {
    "name": "ipython",
    "version": 3
   },
   "file_extension": ".py",
   "mimetype": "text/x-python",
   "name": "python",
   "nbconvert_exporter": "python",
   "pygments_lexer": "ipython3",
   "version": "3.11.0"
  },
  "orig_nbformat": 4
 },
 "nbformat": 4,
 "nbformat_minor": 2
}
